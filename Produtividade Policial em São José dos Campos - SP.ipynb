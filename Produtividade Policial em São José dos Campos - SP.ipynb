{
 "cells": [
  {
   "cell_type": "markdown",
   "metadata": {},
   "source": [
    "<img src=\"PCSJC.jpg\" height=\"1px\">\n",
    "\n",
    "# Análise da Produtividade da Polícia Civil de São José dos Campos - SP.\n",
    "\n",
    "* Este projeto tem como objetivo levantar algumas hipóteses sobre a produtividade policial da Polícia Civil de São José dos Campos - SP dos anos de 2019 e 2020, retirados do site da Secretaria de Segurança Pública de São Paulo (SSP-SP). Para realizar a análise, foram utilizadas as bibliotecas Pandas, Numpy, Mayplotlib e Seaborn do Python. Foram levantadas e respondidas 6 hipóteses.\n",
    "\n",
    "\n",
    "\n",
    "* O dataset original sofreu algumas alterações para que as análises pudessem ter sido feitas. O mesmo contém dados de 2019, 2020 e Janeiro de 2021, mas os dados de Janeiro de 2021 foram retirados. Assim, foram analisados apenas os anos de 2019 e 2020, que contém os dados de todos os meses daqueles anos.\n",
    "\n",
    "\n",
    "\n",
    "* Link original: http://www.ssp.sp.gov.br/Estatistica/Pesquisa.aspx"
   ]
  },
  {
   "cell_type": "markdown",
   "metadata": {},
   "source": [
    "# Hipóteses Levantadas\n",
    "\n",
    "* 1 - Cresceu o número de ocorrências de porte ilegal de arma em São José dos Campos\n",
    "* 2 - 2019 teve menos ocorrências por tráfico de entorpecentes em relação ao ano de 2020\n",
    "* 3 - Em 2020, o número de veículos recuperados foi maior em março\n",
    "* 4 - O número de presos em flagrantes é maior que o número de presos por mandado em 2 anos\n",
    "* 5 - O total de inquéritos policiais instaurados subiu em 2020. O pico foi no mês de Março\n",
    "* 6 - O número de prisões efetuadas foi maior em Outubro de 2020 do que em Fevereiro de 2019."
   ]
  },
  {
   "cell_type": "code",
   "execution_count": 1,
   "metadata": {},
   "outputs": [],
   "source": [
    "#Importando as bibliotecas\n",
    "import pandas as pd \n",
    "import numpy as np\n",
    "import matplotlib as mat\n",
    "import matplotlib.pyplot as plt\n",
    "import seaborn as sns\n",
    "\n",
    "import warnings\n",
    "warnings.filterwarnings(\"ignore\")\n",
    "\n",
    "%matplotlib inline"
   ]
  },
  {
   "cell_type": "code",
   "execution_count": 2,
   "metadata": {},
   "outputs": [],
   "source": [
    "sns.set(style=\"whitegrid\")\n",
    "sns.set_color_codes(\"pastel\")"
   ]
  },
  {
   "cell_type": "code",
   "execution_count": 3,
   "metadata": {},
   "outputs": [
    {
     "data": {
      "text/html": [
       "<div>\n",
       "<style scoped>\n",
       "    .dataframe tbody tr th:only-of-type {\n",
       "        vertical-align: middle;\n",
       "    }\n",
       "\n",
       "    .dataframe tbody tr th {\n",
       "        vertical-align: top;\n",
       "    }\n",
       "\n",
       "    .dataframe thead th {\n",
       "        text-align: right;\n",
       "    }\n",
       "</style>\n",
       "<table border=\"1\" class=\"dataframe\">\n",
       "  <thead>\n",
       "    <tr style=\"text-align: right;\">\n",
       "      <th></th>\n",
       "      <th>ANO</th>\n",
       "      <th>MÊS</th>\n",
       "      <th>OCORRÊNCIAS DE PORTE DE ENTORPECENTES</th>\n",
       "      <th>OCORRÊNCIAS DE TRÁFICO DE ENTORPECENTES</th>\n",
       "      <th>OCORRÊNCIAS DE APREENSÃO DE ENTORPECENTES(1)</th>\n",
       "      <th>OCORRÊNCIAS DE PORTE ILEGAL DE ARMA</th>\n",
       "      <th>Nº DE ARMAS DE FOGO APREENDIDAS</th>\n",
       "      <th>Nº DE FLAGRANTES LAVRADOS</th>\n",
       "      <th>Nº DE INFRATORES APREENDIDOS EM FLAGRANTE</th>\n",
       "      <th>Nº DE INFRATORES APREENDIDOS POR MANDADO</th>\n",
       "      <th>Nº DE PESSOAS PRESAS EM FLAGRANTE</th>\n",
       "      <th>Nº DE PESSOAS PRESAS POR MANDADO</th>\n",
       "      <th>Nº DE PRISÕES EFETUADAS</th>\n",
       "      <th>Nº DE VEÍCULOS RECUPERADOS</th>\n",
       "      <th>TOT. DE INQUÉRITOS POLICIAIS INSTAURADOS</th>\n",
       "    </tr>\n",
       "  </thead>\n",
       "  <tbody>\n",
       "    <tr>\n",
       "      <th>0</th>\n",
       "      <td>2019</td>\n",
       "      <td>JANEIRO</td>\n",
       "      <td>6</td>\n",
       "      <td>49</td>\n",
       "      <td>1</td>\n",
       "      <td>4</td>\n",
       "      <td>13</td>\n",
       "      <td>106</td>\n",
       "      <td>30</td>\n",
       "      <td>4</td>\n",
       "      <td>114</td>\n",
       "      <td>55</td>\n",
       "      <td>161</td>\n",
       "      <td>71</td>\n",
       "      <td>401</td>\n",
       "    </tr>\n",
       "    <tr>\n",
       "      <th>1</th>\n",
       "      <td>2019</td>\n",
       "      <td>FEVEREIRO</td>\n",
       "      <td>10</td>\n",
       "      <td>33</td>\n",
       "      <td>0</td>\n",
       "      <td>7</td>\n",
       "      <td>14</td>\n",
       "      <td>94</td>\n",
       "      <td>23</td>\n",
       "      <td>7</td>\n",
       "      <td>104</td>\n",
       "      <td>73</td>\n",
       "      <td>167</td>\n",
       "      <td>70</td>\n",
       "      <td>463</td>\n",
       "    </tr>\n",
       "    <tr>\n",
       "      <th>2</th>\n",
       "      <td>2019</td>\n",
       "      <td>MARÇO</td>\n",
       "      <td>6</td>\n",
       "      <td>47</td>\n",
       "      <td>3</td>\n",
       "      <td>12</td>\n",
       "      <td>18</td>\n",
       "      <td>99</td>\n",
       "      <td>34</td>\n",
       "      <td>17</td>\n",
       "      <td>116</td>\n",
       "      <td>45</td>\n",
       "      <td>144</td>\n",
       "      <td>70</td>\n",
       "      <td>411</td>\n",
       "    </tr>\n",
       "    <tr>\n",
       "      <th>3</th>\n",
       "      <td>2019</td>\n",
       "      <td>ABRIL</td>\n",
       "      <td>7</td>\n",
       "      <td>43</td>\n",
       "      <td>1</td>\n",
       "      <td>7</td>\n",
       "      <td>12</td>\n",
       "      <td>121</td>\n",
       "      <td>24</td>\n",
       "      <td>13</td>\n",
       "      <td>135</td>\n",
       "      <td>52</td>\n",
       "      <td>173</td>\n",
       "      <td>77</td>\n",
       "      <td>490</td>\n",
       "    </tr>\n",
       "    <tr>\n",
       "      <th>4</th>\n",
       "      <td>2019</td>\n",
       "      <td>MAIO</td>\n",
       "      <td>11</td>\n",
       "      <td>57</td>\n",
       "      <td>0</td>\n",
       "      <td>8</td>\n",
       "      <td>18</td>\n",
       "      <td>129</td>\n",
       "      <td>23</td>\n",
       "      <td>14</td>\n",
       "      <td>149</td>\n",
       "      <td>61</td>\n",
       "      <td>190</td>\n",
       "      <td>74</td>\n",
       "      <td>505</td>\n",
       "    </tr>\n",
       "  </tbody>\n",
       "</table>\n",
       "</div>"
      ],
      "text/plain": [
       "    ANO        MÊS  OCORRÊNCIAS DE PORTE DE ENTORPECENTES  \\\n",
       "0  2019    JANEIRO                                      6   \n",
       "1  2019  FEVEREIRO                                     10   \n",
       "2  2019      MARÇO                                      6   \n",
       "3  2019      ABRIL                                      7   \n",
       "4  2019       MAIO                                     11   \n",
       "\n",
       "   OCORRÊNCIAS DE TRÁFICO DE ENTORPECENTES  \\\n",
       "0                                       49   \n",
       "1                                       33   \n",
       "2                                       47   \n",
       "3                                       43   \n",
       "4                                       57   \n",
       "\n",
       "   OCORRÊNCIAS DE APREENSÃO DE ENTORPECENTES(1)  \\\n",
       "0                                             1   \n",
       "1                                             0   \n",
       "2                                             3   \n",
       "3                                             1   \n",
       "4                                             0   \n",
       "\n",
       "   OCORRÊNCIAS DE PORTE ILEGAL DE ARMA  Nº DE ARMAS DE FOGO APREENDIDAS  \\\n",
       "0                                    4                               13   \n",
       "1                                    7                               14   \n",
       "2                                   12                               18   \n",
       "3                                    7                               12   \n",
       "4                                    8                               18   \n",
       "\n",
       "   Nº DE FLAGRANTES LAVRADOS  Nº DE INFRATORES APREENDIDOS EM FLAGRANTE  \\\n",
       "0                        106                                         30   \n",
       "1                         94                                         23   \n",
       "2                         99                                         34   \n",
       "3                        121                                         24   \n",
       "4                        129                                         23   \n",
       "\n",
       "   Nº DE INFRATORES APREENDIDOS POR MANDADO  \\\n",
       "0                                         4   \n",
       "1                                         7   \n",
       "2                                        17   \n",
       "3                                        13   \n",
       "4                                        14   \n",
       "\n",
       "   Nº DE PESSOAS PRESAS EM FLAGRANTE  Nº DE PESSOAS PRESAS POR MANDADO  \\\n",
       "0                                114                                55   \n",
       "1                                104                                73   \n",
       "2                                116                                45   \n",
       "3                                135                                52   \n",
       "4                                149                                61   \n",
       "\n",
       "   Nº DE PRISÕES EFETUADAS  Nº DE VEÍCULOS RECUPERADOS  \\\n",
       "0                      161                          71   \n",
       "1                      167                          70   \n",
       "2                      144                          70   \n",
       "3                      173                          77   \n",
       "4                      190                          74   \n",
       "\n",
       "   TOT. DE INQUÉRITOS POLICIAIS INSTAURADOS  \n",
       "0                                       401  \n",
       "1                                       463  \n",
       "2                                       411  \n",
       "3                                       490  \n",
       "4                                       505  "
      ]
     },
     "execution_count": 3,
     "metadata": {},
     "output_type": "execute_result"
    }
   ],
   "source": [
    "#Abrindo o dataset\n",
    "df = pd.read_csv('https://raw.githubusercontent.com/Daniel-RPS/Produtividade-Policial-SJC/main/Produtividade%20Policial%20SJC.csv', sep=';', encoding='ISO-8859-1')\n",
    "df.head()"
   ]
  },
  {
   "cell_type": "code",
   "execution_count": 4,
   "metadata": {},
   "outputs": [
    {
     "data": {
      "text/plain": [
       "(24, 15)"
      ]
     },
     "execution_count": 4,
     "metadata": {},
     "output_type": "execute_result"
    }
   ],
   "source": [
    "#Número de Linhas e colunas\n",
    "df.shape"
   ]
  },
  {
   "cell_type": "code",
   "execution_count": 5,
   "metadata": {},
   "outputs": [
    {
     "name": "stdout",
     "output_type": "stream",
     "text": [
      "<class 'pandas.core.frame.DataFrame'>\n",
      "RangeIndex: 24 entries, 0 to 23\n",
      "Data columns (total 15 columns):\n",
      " #   Column                                        Non-Null Count  Dtype \n",
      "---  ------                                        --------------  ----- \n",
      " 0   ANO                                           24 non-null     int64 \n",
      " 1   MÊS                                           24 non-null     object\n",
      " 2   OCORRÊNCIAS DE PORTE DE ENTORPECENTES         24 non-null     int64 \n",
      " 3   OCORRÊNCIAS DE TRÁFICO DE ENTORPECENTES       24 non-null     int64 \n",
      " 4   OCORRÊNCIAS DE APREENSÃO DE ENTORPECENTES(1)  24 non-null     int64 \n",
      " 5   OCORRÊNCIAS DE PORTE ILEGAL DE ARMA           24 non-null     int64 \n",
      " 6   Nº DE ARMAS DE FOGO APREENDIDAS               24 non-null     int64 \n",
      " 7   Nº DE FLAGRANTES LAVRADOS                     24 non-null     int64 \n",
      " 8   Nº DE INFRATORES APREENDIDOS EM FLAGRANTE     24 non-null     int64 \n",
      " 9   Nº DE INFRATORES APREENDIDOS POR MANDADO      24 non-null     int64 \n",
      " 10  Nº DE PESSOAS PRESAS EM FLAGRANTE             24 non-null     int64 \n",
      " 11  Nº DE PESSOAS PRESAS POR MANDADO              24 non-null     int64 \n",
      " 12  Nº DE PRISÕES EFETUADAS                       24 non-null     int64 \n",
      " 13  Nº DE VEÍCULOS RECUPERADOS                    24 non-null     int64 \n",
      " 14  TOT. DE INQUÉRITOS POLICIAIS INSTAURADOS      24 non-null     int64 \n",
      "dtypes: int64(14), object(1)\n",
      "memory usage: 2.9+ KB\n"
     ]
    }
   ],
   "source": [
    "#Informações sobre o dataset\n",
    "df.info()"
   ]
  },
  {
   "cell_type": "code",
   "execution_count": 6,
   "metadata": {},
   "outputs": [
    {
     "data": {
      "text/plain": [
       "Index(['ANO', 'MÊS', 'OCORRÊNCIAS DE PORTE DE ENTORPECENTES',\n",
       "       'OCORRÊNCIAS DE TRÁFICO DE ENTORPECENTES',\n",
       "       'OCORRÊNCIAS DE APREENSÃO DE ENTORPECENTES(1)',\n",
       "       'OCORRÊNCIAS DE PORTE ILEGAL DE ARMA',\n",
       "       'Nº DE ARMAS DE FOGO APREENDIDAS', 'Nº DE FLAGRANTES LAVRADOS',\n",
       "       'Nº DE INFRATORES APREENDIDOS EM FLAGRANTE',\n",
       "       'Nº DE INFRATORES APREENDIDOS POR MANDADO',\n",
       "       'Nº DE PESSOAS PRESAS EM FLAGRANTE', 'Nº DE PESSOAS PRESAS POR MANDADO',\n",
       "       'Nº DE PRISÕES EFETUADAS', 'Nº DE VEÍCULOS RECUPERADOS',\n",
       "       'TOT. DE INQUÉRITOS POLICIAIS INSTAURADOS'],\n",
       "      dtype='object')"
      ]
     },
     "execution_count": 6,
     "metadata": {},
     "output_type": "execute_result"
    }
   ],
   "source": [
    "#Nome das colunas\n",
    "df.columns"
   ]
  },
  {
   "cell_type": "code",
   "execution_count": 7,
   "metadata": {},
   "outputs": [
    {
     "data": {
      "text/html": [
       "<div>\n",
       "<style scoped>\n",
       "    .dataframe tbody tr th:only-of-type {\n",
       "        vertical-align: middle;\n",
       "    }\n",
       "\n",
       "    .dataframe tbody tr th {\n",
       "        vertical-align: top;\n",
       "    }\n",
       "\n",
       "    .dataframe thead th {\n",
       "        text-align: right;\n",
       "    }\n",
       "</style>\n",
       "<table border=\"1\" class=\"dataframe\">\n",
       "  <thead>\n",
       "    <tr style=\"text-align: right;\">\n",
       "      <th></th>\n",
       "      <th>ANO</th>\n",
       "      <th>OCORRÊNCIAS DE PORTE DE ENTORPECENTES</th>\n",
       "      <th>OCORRÊNCIAS DE TRÁFICO DE ENTORPECENTES</th>\n",
       "      <th>OCORRÊNCIAS DE APREENSÃO DE ENTORPECENTES(1)</th>\n",
       "      <th>OCORRÊNCIAS DE PORTE ILEGAL DE ARMA</th>\n",
       "      <th>Nº DE ARMAS DE FOGO APREENDIDAS</th>\n",
       "      <th>Nº DE FLAGRANTES LAVRADOS</th>\n",
       "      <th>Nº DE INFRATORES APREENDIDOS EM FLAGRANTE</th>\n",
       "      <th>Nº DE INFRATORES APREENDIDOS POR MANDADO</th>\n",
       "      <th>Nº DE PESSOAS PRESAS EM FLAGRANTE</th>\n",
       "      <th>Nº DE PESSOAS PRESAS POR MANDADO</th>\n",
       "      <th>Nº DE PRISÕES EFETUADAS</th>\n",
       "      <th>Nº DE VEÍCULOS RECUPERADOS</th>\n",
       "      <th>TOT. DE INQUÉRITOS POLICIAIS INSTAURADOS</th>\n",
       "    </tr>\n",
       "  </thead>\n",
       "  <tbody>\n",
       "    <tr>\n",
       "      <th>count</th>\n",
       "      <td>24.000000</td>\n",
       "      <td>24.000000</td>\n",
       "      <td>24.000000</td>\n",
       "      <td>24.00000</td>\n",
       "      <td>24.000000</td>\n",
       "      <td>24.000000</td>\n",
       "      <td>24.000000</td>\n",
       "      <td>24.000000</td>\n",
       "      <td>24.000000</td>\n",
       "      <td>24.000000</td>\n",
       "      <td>24.000000</td>\n",
       "      <td>24.000000</td>\n",
       "      <td>24.000000</td>\n",
       "      <td>24.000000</td>\n",
       "    </tr>\n",
       "    <tr>\n",
       "      <th>mean</th>\n",
       "      <td>2019.500000</td>\n",
       "      <td>5.666667</td>\n",
       "      <td>45.375000</td>\n",
       "      <td>0.75000</td>\n",
       "      <td>6.958333</td>\n",
       "      <td>13.291667</td>\n",
       "      <td>113.416667</td>\n",
       "      <td>24.625000</td>\n",
       "      <td>5.000000</td>\n",
       "      <td>133.666667</td>\n",
       "      <td>49.583333</td>\n",
       "      <td>163.000000</td>\n",
       "      <td>52.666667</td>\n",
       "      <td>382.916667</td>\n",
       "    </tr>\n",
       "    <tr>\n",
       "      <th>std</th>\n",
       "      <td>0.510754</td>\n",
       "      <td>3.265986</td>\n",
       "      <td>9.025628</td>\n",
       "      <td>0.84699</td>\n",
       "      <td>2.866283</td>\n",
       "      <td>5.751969</td>\n",
       "      <td>28.966122</td>\n",
       "      <td>7.293908</td>\n",
       "      <td>4.727349</td>\n",
       "      <td>34.574012</td>\n",
       "      <td>24.253940</td>\n",
       "      <td>36.487044</td>\n",
       "      <td>18.818739</td>\n",
       "      <td>76.335026</td>\n",
       "    </tr>\n",
       "    <tr>\n",
       "      <th>min</th>\n",
       "      <td>2019.000000</td>\n",
       "      <td>0.000000</td>\n",
       "      <td>26.000000</td>\n",
       "      <td>0.00000</td>\n",
       "      <td>2.000000</td>\n",
       "      <td>3.000000</td>\n",
       "      <td>62.000000</td>\n",
       "      <td>9.000000</td>\n",
       "      <td>0.000000</td>\n",
       "      <td>72.000000</td>\n",
       "      <td>9.000000</td>\n",
       "      <td>88.000000</td>\n",
       "      <td>18.000000</td>\n",
       "      <td>253.000000</td>\n",
       "    </tr>\n",
       "    <tr>\n",
       "      <th>25%</th>\n",
       "      <td>2019.000000</td>\n",
       "      <td>3.750000</td>\n",
       "      <td>38.000000</td>\n",
       "      <td>0.00000</td>\n",
       "      <td>4.750000</td>\n",
       "      <td>9.000000</td>\n",
       "      <td>93.750000</td>\n",
       "      <td>19.000000</td>\n",
       "      <td>1.750000</td>\n",
       "      <td>110.750000</td>\n",
       "      <td>29.500000</td>\n",
       "      <td>153.000000</td>\n",
       "      <td>37.500000</td>\n",
       "      <td>336.000000</td>\n",
       "    </tr>\n",
       "    <tr>\n",
       "      <th>50%</th>\n",
       "      <td>2019.500000</td>\n",
       "      <td>6.000000</td>\n",
       "      <td>45.500000</td>\n",
       "      <td>1.00000</td>\n",
       "      <td>7.000000</td>\n",
       "      <td>12.500000</td>\n",
       "      <td>110.500000</td>\n",
       "      <td>25.500000</td>\n",
       "      <td>4.000000</td>\n",
       "      <td>122.500000</td>\n",
       "      <td>52.000000</td>\n",
       "      <td>170.000000</td>\n",
       "      <td>51.500000</td>\n",
       "      <td>369.500000</td>\n",
       "    </tr>\n",
       "    <tr>\n",
       "      <th>75%</th>\n",
       "      <td>2020.000000</td>\n",
       "      <td>9.000000</td>\n",
       "      <td>52.250000</td>\n",
       "      <td>1.00000</td>\n",
       "      <td>9.000000</td>\n",
       "      <td>16.250000</td>\n",
       "      <td>131.750000</td>\n",
       "      <td>30.000000</td>\n",
       "      <td>6.250000</td>\n",
       "      <td>154.750000</td>\n",
       "      <td>65.500000</td>\n",
       "      <td>184.000000</td>\n",
       "      <td>70.000000</td>\n",
       "      <td>442.000000</td>\n",
       "    </tr>\n",
       "    <tr>\n",
       "      <th>max</th>\n",
       "      <td>2020.000000</td>\n",
       "      <td>11.000000</td>\n",
       "      <td>62.000000</td>\n",
       "      <td>3.00000</td>\n",
       "      <td>12.000000</td>\n",
       "      <td>29.000000</td>\n",
       "      <td>167.000000</td>\n",
       "      <td>38.000000</td>\n",
       "      <td>17.000000</td>\n",
       "      <td>200.000000</td>\n",
       "      <td>96.000000</td>\n",
       "      <td>235.000000</td>\n",
       "      <td>81.000000</td>\n",
       "      <td>511.000000</td>\n",
       "    </tr>\n",
       "  </tbody>\n",
       "</table>\n",
       "</div>"
      ],
      "text/plain": [
       "               ANO  OCORRÊNCIAS DE PORTE DE ENTORPECENTES  \\\n",
       "count    24.000000                              24.000000   \n",
       "mean   2019.500000                               5.666667   \n",
       "std       0.510754                               3.265986   \n",
       "min    2019.000000                               0.000000   \n",
       "25%    2019.000000                               3.750000   \n",
       "50%    2019.500000                               6.000000   \n",
       "75%    2020.000000                               9.000000   \n",
       "max    2020.000000                              11.000000   \n",
       "\n",
       "       OCORRÊNCIAS DE TRÁFICO DE ENTORPECENTES  \\\n",
       "count                                24.000000   \n",
       "mean                                 45.375000   \n",
       "std                                   9.025628   \n",
       "min                                  26.000000   \n",
       "25%                                  38.000000   \n",
       "50%                                  45.500000   \n",
       "75%                                  52.250000   \n",
       "max                                  62.000000   \n",
       "\n",
       "       OCORRÊNCIAS DE APREENSÃO DE ENTORPECENTES(1)  \\\n",
       "count                                      24.00000   \n",
       "mean                                        0.75000   \n",
       "std                                         0.84699   \n",
       "min                                         0.00000   \n",
       "25%                                         0.00000   \n",
       "50%                                         1.00000   \n",
       "75%                                         1.00000   \n",
       "max                                         3.00000   \n",
       "\n",
       "       OCORRÊNCIAS DE PORTE ILEGAL DE ARMA  Nº DE ARMAS DE FOGO APREENDIDAS  \\\n",
       "count                            24.000000                        24.000000   \n",
       "mean                              6.958333                        13.291667   \n",
       "std                               2.866283                         5.751969   \n",
       "min                               2.000000                         3.000000   \n",
       "25%                               4.750000                         9.000000   \n",
       "50%                               7.000000                        12.500000   \n",
       "75%                               9.000000                        16.250000   \n",
       "max                              12.000000                        29.000000   \n",
       "\n",
       "       Nº DE FLAGRANTES LAVRADOS  Nº DE INFRATORES APREENDIDOS EM FLAGRANTE  \\\n",
       "count                  24.000000                                  24.000000   \n",
       "mean                  113.416667                                  24.625000   \n",
       "std                    28.966122                                   7.293908   \n",
       "min                    62.000000                                   9.000000   \n",
       "25%                    93.750000                                  19.000000   \n",
       "50%                   110.500000                                  25.500000   \n",
       "75%                   131.750000                                  30.000000   \n",
       "max                   167.000000                                  38.000000   \n",
       "\n",
       "       Nº DE INFRATORES APREENDIDOS POR MANDADO  \\\n",
       "count                                 24.000000   \n",
       "mean                                   5.000000   \n",
       "std                                    4.727349   \n",
       "min                                    0.000000   \n",
       "25%                                    1.750000   \n",
       "50%                                    4.000000   \n",
       "75%                                    6.250000   \n",
       "max                                   17.000000   \n",
       "\n",
       "       Nº DE PESSOAS PRESAS EM FLAGRANTE  Nº DE PESSOAS PRESAS POR MANDADO  \\\n",
       "count                          24.000000                         24.000000   \n",
       "mean                          133.666667                         49.583333   \n",
       "std                            34.574012                         24.253940   \n",
       "min                            72.000000                          9.000000   \n",
       "25%                           110.750000                         29.500000   \n",
       "50%                           122.500000                         52.000000   \n",
       "75%                           154.750000                         65.500000   \n",
       "max                           200.000000                         96.000000   \n",
       "\n",
       "       Nº DE PRISÕES EFETUADAS  Nº DE VEÍCULOS RECUPERADOS  \\\n",
       "count                24.000000                   24.000000   \n",
       "mean                163.000000                   52.666667   \n",
       "std                  36.487044                   18.818739   \n",
       "min                  88.000000                   18.000000   \n",
       "25%                 153.000000                   37.500000   \n",
       "50%                 170.000000                   51.500000   \n",
       "75%                 184.000000                   70.000000   \n",
       "max                 235.000000                   81.000000   \n",
       "\n",
       "       TOT. DE INQUÉRITOS POLICIAIS INSTAURADOS  \n",
       "count                                 24.000000  \n",
       "mean                                 382.916667  \n",
       "std                                   76.335026  \n",
       "min                                  253.000000  \n",
       "25%                                  336.000000  \n",
       "50%                                  369.500000  \n",
       "75%                                  442.000000  \n",
       "max                                  511.000000  "
      ]
     },
     "execution_count": 7,
     "metadata": {},
     "output_type": "execute_result"
    }
   ],
   "source": [
    "#Descrição estatística dos valores numéricos\n",
    "df.describe()"
   ]
  },
  {
   "cell_type": "code",
   "execution_count": 8,
   "metadata": {},
   "outputs": [
    {
     "data": {
      "text/plain": [
       "ANO                                             0\n",
       "MÊS                                             0\n",
       "OCORRÊNCIAS DE PORTE DE ENTORPECENTES           0\n",
       "OCORRÊNCIAS DE TRÁFICO DE ENTORPECENTES         0\n",
       "OCORRÊNCIAS DE APREENSÃO DE ENTORPECENTES(1)    0\n",
       "OCORRÊNCIAS DE PORTE ILEGAL DE ARMA             0\n",
       "Nº DE ARMAS DE FOGO APREENDIDAS                 0\n",
       "Nº DE FLAGRANTES LAVRADOS                       0\n",
       "Nº DE INFRATORES APREENDIDOS EM FLAGRANTE       0\n",
       "Nº DE INFRATORES APREENDIDOS POR MANDADO        0\n",
       "Nº DE PESSOAS PRESAS EM FLAGRANTE               0\n",
       "Nº DE PESSOAS PRESAS POR MANDADO                0\n",
       "Nº DE PRISÕES EFETUADAS                         0\n",
       "Nº DE VEÍCULOS RECUPERADOS                      0\n",
       "TOT. DE INQUÉRITOS POLICIAIS INSTAURADOS        0\n",
       "dtype: int64"
      ]
     },
     "execution_count": 8,
     "metadata": {},
     "output_type": "execute_result"
    }
   ],
   "source": [
    "#Número de dados faltantes/nulos\n",
    "df.isnull().sum()"
   ]
  },
  {
   "cell_type": "markdown",
   "metadata": {},
   "source": [
    "# Respondendo às perguntas"
   ]
  },
  {
   "cell_type": "markdown",
   "metadata": {},
   "source": [
    "### 1 - Cresceu o número de ocorrências de porte ilegal de arma em 2020 em relação a 2019 em São José dos Campos\n",
    "\n",
    "#### Falso. Decresceu o número de ocorrências de porte ilegal de arma de 2019 para 2020."
   ]
  },
  {
   "cell_type": "code",
   "execution_count": 9,
   "metadata": {},
   "outputs": [
    {
     "data": {
      "text/plain": [
       "ANO\n",
       "2019    85\n",
       "2020    82\n",
       "Name: OCORRÊNCIAS DE PORTE ILEGAL DE ARMA, dtype: int64"
      ]
     },
     "execution_count": 9,
     "metadata": {},
     "output_type": "execute_result"
    },
    {
     "data": {
      "image/png": "[encoded data removed]",
      "text/plain": [
       "<Figure size 720x360 with 1 Axes>"
      ]
     },
     "metadata": {},
     "output_type": "display_data"
    }
   ],
   "source": [
    "plt.subplots(figsize=(10,5))\n",
    "\n",
    "porte_ilegal_armas = df.groupby('ANO')['OCORRÊNCIAS DE PORTE ILEGAL DE ARMA'].sum()\n",
    "\n",
    "porte_ilegal_armas.plot.bar()\n",
    "porte_ilegal_armas"
   ]
  },
  {
   "cell_type": "markdown",
   "metadata": {},
   "source": [
    "### 2 - 2019 teve menos ocorrências por tráfico de entorpecentes em relação ao ano de 2020\n",
    "\n",
    "#### Falso. Em 2019 houve mais ocorrências por tráfico de entorpencentes do que em 2020"
   ]
  },
  {
   "cell_type": "code",
   "execution_count": 10,
   "metadata": {},
   "outputs": [
    {
     "data": {
      "text/plain": [
       "ANO\n",
       "2019    599\n",
       "2020    490\n",
       "Name: OCORRÊNCIAS DE TRÁFICO DE ENTORPECENTES, dtype: int64"
      ]
     },
     "execution_count": 10,
     "metadata": {},
     "output_type": "execute_result"
    },
    {
     "data": {
      "image/png": "[encoded data removed]",
      "text/plain": [
       "<Figure size 720x360 with 1 Axes>"
      ]
     },
     "metadata": {},
     "output_type": "display_data"
    }
   ],
   "source": [
    "plt.subplots(figsize=(10,5))\n",
    "\n",
    "ocorr_traf_ent = df.groupby('ANO')['OCORRÊNCIAS DE TRÁFICO DE ENTORPECENTES'].sum()\n",
    "\n",
    "ocorr_traf_ent.plot.bar()\n",
    "ocorr_traf_ent"
   ]
  },
  {
   "cell_type": "markdown",
   "metadata": {},
   "source": [
    "### 3 - Em 2020, o número de veículos recuperados foi maior em Março.\n",
    "\n",
    "#### Falso. Em 2020, o número de veículos recuperados foi maior em Janeiro."
   ]
  },
  {
   "cell_type": "code",
   "execution_count": 11,
   "metadata": {},
   "outputs": [
    {
     "data": {
      "image/png": "[encoded data removed]",
      "text/plain": [
       "<Figure size 720x360 with 1 Axes>"
      ]
     },
     "metadata": {},
     "output_type": "display_data"
    }
   ],
   "source": [
    "# df.query('ANO == 2020') - Pega os dados apenas do ano de 2020\n",
    "\n",
    "plt.subplots(figsize=(10,5))\n",
    "plt.xticks(rotation = 45);\n",
    "meses = df.query('ANO == 2020')['MÊS']\n",
    "ocorrencias = df.query('ANO == 2020')['Nº DE VEÍCULOS RECUPERADOS']\n",
    "plt.bar(meses, ocorrencias)\n",
    "plt.show()"
   ]
  },
  {
   "cell_type": "markdown",
   "metadata": {},
   "source": [
    "### 4 - O número de presos em flagrantes é maior que o número de presos por mandado em 2 anos\n",
    "\n",
    "#### Verdadeiro. Em 2 anos, o número de presos em flagrantes foi quase 5 vezes o número de presos por mandado"
   ]
  },
  {
   "cell_type": "code",
   "execution_count": 12,
   "metadata": {},
   "outputs": [
    {
     "data": {
      "text/html": [
       "<div>\n",
       "<style scoped>\n",
       "    .dataframe tbody tr th:only-of-type {\n",
       "        vertical-align: middle;\n",
       "    }\n",
       "\n",
       "    .dataframe tbody tr th {\n",
       "        vertical-align: top;\n",
       "    }\n",
       "\n",
       "    .dataframe thead th {\n",
       "        text-align: right;\n",
       "    }\n",
       "</style>\n",
       "<table border=\"1\" class=\"dataframe\">\n",
       "  <thead>\n",
       "    <tr style=\"text-align: right;\">\n",
       "      <th></th>\n",
       "      <th>Tipo</th>\n",
       "      <th>Resultados</th>\n",
       "    </tr>\n",
       "  </thead>\n",
       "  <tbody>\n",
       "    <tr>\n",
       "      <th>0</th>\n",
       "      <td>Flagrantes</td>\n",
       "      <td>591</td>\n",
       "    </tr>\n",
       "    <tr>\n",
       "      <th>1</th>\n",
       "      <td>Mandados</td>\n",
       "      <td>120</td>\n",
       "    </tr>\n",
       "  </tbody>\n",
       "</table>\n",
       "</div>"
      ],
      "text/plain": [
       "         Tipo  Resultados\n",
       "0  Flagrantes         591\n",
       "1    Mandados         120"
      ]
     },
     "execution_count": 12,
     "metadata": {},
     "output_type": "execute_result"
    }
   ],
   "source": [
    "flagrante_total = df.groupby('ANO')['Nº DE INFRATORES APREENDIDOS EM FLAGRANTE'].sum().sum()\n",
    "mandado_total = df.groupby('ANO')['Nº DE INFRATORES APREENDIDOS POR MANDADO'].sum().sum()\n",
    "\n",
    "total = {'Tipo': ['Flagrantes','Mandados'],\n",
    "         'Resultados': [flagrante_total, mandado_total]\n",
    "        }\n",
    "\n",
    "table = pd.DataFrame(total, columns=['Tipo','Resultados'])\n",
    "table"
   ]
  },
  {
   "cell_type": "code",
   "execution_count": 13,
   "metadata": {},
   "outputs": [
    {
     "data": {
      "image/png": "[encoded data removed]",
      "text/plain": [
       "<Figure size 720x360 with 1 Axes>"
      ]
     },
     "metadata": {},
     "output_type": "display_data"
    }
   ],
   "source": [
    "plt.subplots(figsize=(10,5))\n",
    "infratores = ['Flagrantes', 'Mandados']\n",
    "valores = [flagrante_total, mandado_total]\n",
    "plt.bar(infratores, valores)\n",
    "plt.show()"
   ]
  },
  {
   "cell_type": "markdown",
   "metadata": {},
   "source": [
    "### 5 - O total de inquéritos policiais instaurados subiu em 2020. O pico, em 2020, foi no mês de Março.\n",
    "\n",
    "#### 1 - Falso. O número total de inquéritos policiais caiu de 2019 para 2020.\n",
    "#### 2 - Falso. O pico, em 2020, foi no mês de Setembro."
   ]
  },
  {
   "cell_type": "code",
   "execution_count": 14,
   "metadata": {},
   "outputs": [
    {
     "data": {
      "image/png": "[encoded data removed]",
      "text/plain": [
       "<Figure size 720x360 with 1 Axes>"
      ]
     },
     "metadata": {},
     "output_type": "display_data"
    }
   ],
   "source": [
    "plt.subplots(figsize=(10,5))\n",
    "\n",
    "total_inquerito = df.groupby('ANO')['TOT. DE INQUÉRITOS POLICIAIS INSTAURADOS'].sum()\n",
    "\n",
    "total_inquerito.plot.bar();"
   ]
  },
  {
   "cell_type": "code",
   "execution_count": 15,
   "metadata": {},
   "outputs": [
    {
     "data": {
      "image/png": "[encoded data removed]",
      "text/plain": [
       "<Figure size 720x360 with 1 Axes>"
      ]
     },
     "metadata": {},
     "output_type": "display_data"
    }
   ],
   "source": [
    "plt.subplots(figsize=(10,5))\n",
    "plt.xticks(rotation = 45);\n",
    "meses = df.query('ANO == 2020')['MÊS']\n",
    "ocorrencias = df.query('ANO == 2020')['TOT. DE INQUÉRITOS POLICIAIS INSTAURADOS']\n",
    "plt.bar(meses, ocorrencias)\n",
    "plt.show()"
   ]
  },
  {
   "cell_type": "markdown",
   "metadata": {},
   "source": [
    "### 6 - O número de prisões efetuadas foi maior em Outubro de 2020 do que em Fevereiro de 2019.\n",
    "\n",
    "#### Verdadeiro. Analisando o gráfico, em Outubro de 2020 houve mais prisões do que em Fevereiro de 2019."
   ]
  },
  {
   "cell_type": "code",
   "execution_count": 16,
   "metadata": {},
   "outputs": [
    {
     "data": {
      "image/png": "[encoded data removed]",
      "text/plain": [
       "<Figure size 640.1x576 with 1 Axes>"
      ]
     },
     "metadata": {},
     "output_type": "display_data"
    }
   ],
   "source": [
    "g = sns.factorplot(x=\"MÊS\", y=\"Nº DE PRISÕES EFETUADAS\", hue=\"ANO\", data=df, size=8, kind=\"bar\", palette=\"muted\")\n",
    "g.despine(left=True)\n",
    "plt.xticks(rotation = 45);\n",
    "plt.show()"
   ]
  }
 ],
 "metadata": {
  "kernelspec": {
   "display_name": "Python 3",
   "language": "python",
   "name": "python3"
  },
  "language_info": {
   "codemirror_mode": {
    "name": "ipython",
    "version": 3
   },
   "file_extension": ".py",
   "mimetype": "text/x-python",
   "name": "python",
   "nbconvert_exporter": "python",
   "pygments_lexer": "ipython3",
   "version": "3.8.3"
  }
 },
 "nbformat": 4,
 "nbformat_minor": 4
}
